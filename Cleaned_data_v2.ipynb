{
 "cells": [
  {
   "cell_type": "code",
   "execution_count": 2,
   "metadata": {},
   "outputs": [
    {
     "name": "stdout",
     "output_type": "stream",
     "text": [
      "These are the features: ['sex' 'age' 'height' 'weight' 'waistline' 'sight_left' 'sight_right'\n",
      " 'hear_left' 'hear_right' 'SBP' 'DBP' 'BLDS' 'tot_chole' 'HDL_chole'\n",
      " 'LDL_chole' 'triglyceride' 'hemoglobin' 'urine_protein'\n",
      " 'serum_creatinine' 'SGOT_AST' 'SGOT_ALT' 'gamma_GTP' 'SMK_stat_type_cd'\n",
      " 'DRK_YN']\n"
     ]
    }
   ],
   "source": [
    "import numpy as np\n",
    "import pandas as pd\n",
    "\n",
    "filename = 'sd-data_raw.csv'\n",
    "data = pd.read_csv(filename)\n",
    "\n",
    "raw_data = data.values # converting from pandas dataframe to numpy array\n",
    "attribute_names = np.asarray(data.columns) # extracting the attribute names\n",
    "print(\"These are the features:\",attribute_names)"
   ]
  },
  {
   "cell_type": "code",
   "execution_count": 3,
   "metadata": {},
   "outputs": [],
   "source": [
    "data = np.array(raw_data) # turning data into numpy array\n",
    "\n",
    "# For the gender attribute we replace 'male' with the number 0 and 'female' with 1:\n",
    "data[data == 'Male'] = 0 \n",
    "data[data == 'Female'] = 1\n",
    "# Same goes for drink yes/no. yes with 1 and no with 0\n",
    "data[data == 'Y'] = 1 \n",
    "data[data == 'N'] = 0"
   ]
  },
  {
   "cell_type": "code",
   "execution_count": 4,
   "metadata": {},
   "outputs": [],
   "source": [
    "# Checked and works\n",
    "# For 'sight_left' and 'sight_right' the scale goes from 0.1 - 2.5 depending on how good your sight is\n",
    "# However 9.9 means blind. To handle this, we just change every 9.9 to a 0, given that 0 would be the worst possible sight \n",
    "data[:, 5][data[:, 5] == 9.9] = 0\n",
    "data[:, 6][data[:, 6] == 9.9] = 0"
   ]
  },
  {
   "cell_type": "code",
   "execution_count": 5,
   "metadata": {},
   "outputs": [],
   "source": [
    "# Checked and works\n",
    "# Collecting outliners in wasteline and SGOT_AST attribute\n",
    "indices = [i for i in range(len(data[:, 19])) if data[i, 19] > 3000 or (data[i, 4] == 999 or data[i, 4] < 40)]\n",
    "# Now removing the rows with the indices found above\n",
    "data = np.delete(data, indices, axis=0)"
   ]
  },
  {
   "cell_type": "code",
   "execution_count": 6,
   "metadata": {},
   "outputs": [],
   "source": [
    "# Checked and works\n",
    "# Applying 1-out-of-K on some of the discrete variables. \n",
    "# hearing_left and hearing_right, K=2\n",
    "# urine_protien, K=6 and smoking state, K=3\n",
    "one_out_of_K_cols_dict = {'encoding1':'hear_left', 'encoding2':'hear_right', 'encoding4':'SMK_stat_type_cd'}\n",
    "\n",
    "# getting indices of collums that needs encoding\n",
    "indices_list = [index for index, element in enumerate(attribute_names) if element in one_out_of_K_cols_dict.values()]\n",
    "\n",
    "key_iterator = iter(one_out_of_K_cols_dict)\n",
    "\n",
    "# For loop for creating encoding matrix for all keys in one_out_of_K_cols_dict\n",
    "for i in range(len(indices_list)):\n",
    "    K = int(data[:,indices_list[i]].max())+1\n",
    "    encoding = np.zeros((data[:,indices_list[i]].size, K))\n",
    "    encoding[np.arange(data[:,indices_list[i]].size), data[:,indices_list[i]].astype(int)] = 1\n",
    "    # deleting first column, because values incoded goes from 1:n and not 0:n, so K=K+1, for this to work.\n",
    "    encoding = encoding[:,1:]\n",
    "    # Storing encoding as value in dict\n",
    "    one_out_of_K_cols_dict[str(next(key_iterator))] = encoding\n",
    "\n",
    "# Deleting old data columns\n",
    "for j in range(len(indices_list)):\n",
    "    data = np.delete(data, indices_list[j]-j, axis=1)\n",
    "\n",
    "# Remember that last key (encoding for 'SMK_stat_type_cd') will be the first colums in data matrix\n",
    "for key in one_out_of_K_cols_dict:\n",
    "    for k in range(one_out_of_K_cols_dict[str(key)].shape[1]):\n",
    "        data = np.insert(data, k, one_out_of_K_cols_dict[str(key)][:,k], axis=1)"
   ]
  },
  {
   "cell_type": "code",
   "execution_count": 7,
   "metadata": {},
   "outputs": [],
   "source": [
    "# Checked and works\n",
    "# standardizing data\n",
    "for i in range(7, data.shape[1]):\n",
    "    # Skipping attributes: sex and drink Y/N - binary\n",
    "    if i != 7 and i != 27:\n",
    "        data[:,i] = (data[:,i] - np.mean(data[:,i])) / np.std(data[:,i])"
   ]
  },
  {
   "cell_type": "code",
   "execution_count": 11,
   "metadata": {},
   "outputs": [
    {
     "data": {
      "text/plain": [
       "28"
      ]
     },
     "execution_count": 11,
     "metadata": {},
     "output_type": "execute_result"
    }
   ],
   "source": [
    "new_atts = ['SM1','SM2','SM3','HearingL1', 'HearingL2', 'HearingR1', 'HearingR2','sex', 'age', 'height', 'weight', 'waistline', 'sight_left', 'sight_right',\n",
    " 'SBP' ,'DBP', 'BLDS' ,'tot_chole', 'HDL_chole',\n",
    " 'LDL_chole', 'triglyceride', 'hemoglobin', 'urine_protein',\n",
    " 'serum_creatinine', 'SGOT_AST', 'SGOT_ALT' ,'gamma_GTP',\n",
    " 'DRK_YN']\n",
    "len(new_atts)"
   ]
  },
  {
   "cell_type": "code",
   "execution_count": 12,
   "metadata": {},
   "outputs": [],
   "source": [
    "exportdata = pd.DataFrame(data)\n",
    "exportdata.to_csv('sd-data_cleanedv1.csv', index=False, header=new_atts)"
   ]
  },
  {
   "cell_type": "code",
   "execution_count": null,
   "metadata": {},
   "outputs": [],
   "source": []
  }
 ],
 "metadata": {
  "kernelspec": {
   "display_name": "Python 3.11.3 64-bit",
   "language": "python",
   "name": "python3"
  },
  "language_info": {
   "codemirror_mode": {
    "name": "ipython",
    "version": 3
   },
   "file_extension": ".py",
   "mimetype": "text/x-python",
   "name": "python",
   "nbconvert_exporter": "python",
   "pygments_lexer": "ipython3",
   "version": "3.11.3"
  },
  "orig_nbformat": 4,
  "vscode": {
   "interpreter": {
    "hash": "b0fa6594d8f4cbf19f97940f81e996739fb7646882a419484c72d19e05852a7e"
   }
  }
 },
 "nbformat": 4,
 "nbformat_minor": 2
}

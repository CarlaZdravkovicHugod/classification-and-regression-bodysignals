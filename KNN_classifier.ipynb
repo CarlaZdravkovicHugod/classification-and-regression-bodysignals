{
 "cells": [
  {
   "cell_type": "code",
   "execution_count": 23,
   "metadata": {},
   "outputs": [],
   "source": [
    "import pandas as pd\n",
    "import numpy as np\n",
    "from sklearn.model_selection import KFold\n",
    "from sklearn.neighbors import KNeighborsClassifier\n",
    "from tqdm import tqdm\n",
    "from tabulate import tabulate\n",
    "\n",
    "filename = 'sd-data_cleanedv1.csv'\n",
    "data = pd.read_csv(filename)\n",
    "\n",
    "cl_data = data.values\n",
    "\n",
    "# Getting data and labels separated\n",
    "X = cl_data[:, :-1]\n",
    "y = cl_data[:, -1]"
   ]
  },
  {
   "cell_type": "code",
   "execution_count": 24,
   "metadata": {},
   "outputs": [],
   "source": [
    "from sklearn.model_selection import train_test_split\n",
    "# Getting only 20% off data for efficiency\n",
    "X, X_throw_away, y, y_throw_away = train_test_split(X, y, test_size=0.80, random_state=42)\n"
   ]
  },
  {
   "cell_type": "code",
   "execution_count": 25,
   "metadata": {},
   "outputs": [
    {
     "name": "stdout",
     "output_type": "stream",
     "text": [
      "Outer Fold 1/10\n"
     ]
    },
    {
     "name": "stderr",
     "output_type": "stream",
     "text": [
      "100%|██████████| 5/5 [01:19<00:00, 15.91s/it]\n"
     ]
    },
    {
     "name": "stdout",
     "output_type": "stream",
     "text": [
      "Outer Fold 2/10\n"
     ]
    },
    {
     "name": "stderr",
     "output_type": "stream",
     "text": [
      "100%|██████████| 5/5 [01:20<00:00, 16.02s/it]\n"
     ]
    },
    {
     "name": "stdout",
     "output_type": "stream",
     "text": [
      "Outer Fold 3/10\n"
     ]
    },
    {
     "name": "stderr",
     "output_type": "stream",
     "text": [
      "100%|██████████| 5/5 [01:18<00:00, 15.73s/it]\n"
     ]
    },
    {
     "name": "stdout",
     "output_type": "stream",
     "text": [
      "Outer Fold 4/10\n"
     ]
    },
    {
     "name": "stderr",
     "output_type": "stream",
     "text": [
      "100%|██████████| 5/5 [01:18<00:00, 15.70s/it]\n"
     ]
    },
    {
     "name": "stdout",
     "output_type": "stream",
     "text": [
      "Outer Fold 5/10\n"
     ]
    },
    {
     "name": "stderr",
     "output_type": "stream",
     "text": [
      "100%|██████████| 5/5 [01:17<00:00, 15.43s/it]\n"
     ]
    },
    {
     "name": "stdout",
     "output_type": "stream",
     "text": [
      "Outer Fold 6/10\n"
     ]
    },
    {
     "name": "stderr",
     "output_type": "stream",
     "text": [
      "100%|██████████| 5/5 [01:17<00:00, 15.55s/it]\n"
     ]
    },
    {
     "name": "stdout",
     "output_type": "stream",
     "text": [
      "Outer Fold 7/10\n"
     ]
    },
    {
     "name": "stderr",
     "output_type": "stream",
     "text": [
      "100%|██████████| 5/5 [01:17<00:00, 15.49s/it]\n"
     ]
    },
    {
     "name": "stdout",
     "output_type": "stream",
     "text": [
      "Outer Fold 8/10\n"
     ]
    },
    {
     "name": "stderr",
     "output_type": "stream",
     "text": [
      "100%|██████████| 5/5 [01:17<00:00, 15.56s/it]\n"
     ]
    },
    {
     "name": "stdout",
     "output_type": "stream",
     "text": [
      "Outer Fold 9/10\n"
     ]
    },
    {
     "name": "stderr",
     "output_type": "stream",
     "text": [
      "100%|██████████| 5/5 [01:16<00:00, 15.22s/it]\n"
     ]
    },
    {
     "name": "stdout",
     "output_type": "stream",
     "text": [
      "Outer Fold 10/10\n"
     ]
    },
    {
     "name": "stderr",
     "output_type": "stream",
     "text": [
      "100%|██████████| 5/5 [01:17<00:00, 15.46s/it]\n"
     ]
    },
    {
     "name": "stdout",
     "output_type": "stream",
     "text": [
      "| ///       |   Outer_1 |   Outer_2 |   Outer_3 |   Outer_4 |   Outer_5 |   Outer_6 |   Outer_7 |   Outer_8 |   Outer_9 |   Outer_10 |\n",
      "|-----------+-----------+-----------+-----------+-----------+-----------+-----------+-----------+-----------+-----------+------------|\n",
      "| E_i       |  0.284122 |  0.277565 |  0.278422 |  0.275396 |  0.285649 |  0.284288 |  0.276974 |  0.286507 |  0.285195 |   0.285246 |\n",
      "| Parameter | 68        | 80        | 74        | 80        | 74        | 80        | 80        | 74        | 62        |  80        |\n",
      "E_gen = 71.80636343248048%\n"
     ]
    }
   ],
   "source": [
    "# Define parameters\n",
    "#number_of_neighbors = range(55,58) # trail and error\n",
    "number_of_neighbors = np.linspace(50, 80, 6)\n",
    "\n",
    "\n",
    "K_outer = 10  # Number of outer folds\n",
    "K_inner = 5  # Number of inner folds\n",
    "\n",
    "# Getting random splits (train and test 90/10) - for outer cross-validation loop\n",
    "# We will now be able to use the split() method to generate indices to split data into training and test set.\n",
    "outer_cv = KFold(n_splits=K_outer, shuffle=True)\n",
    "\n",
    "# Initialize variable - this will contain the test error of the best model when tested on D_test (outer)\n",
    "final_preformance_for_k_outer = np.empty((2, K_outer))\n",
    "\n",
    "# Looping over the outer splits\n",
    "for i_outer, (train_outer_index, test_outer_index) in enumerate(outer_cv.split(X)):\n",
    "    print(f'Outer Fold {i_outer + 1}/{K_outer}')\n",
    "\n",
    "    # train_outer_index and test_outer_index is a list of indicies as the name suggests.\n",
    "    # we now assign the data, in allignment with the splits, to varaibles\n",
    "    X_train_outer, X_test_outer = X[train_outer_index, :], X[test_outer_index, :]\n",
    "    y_train_outer, y_test_outer = y[train_outer_index], y[test_outer_index]\n",
    "\n",
    "    # Inner splits\n",
    "    inner_cv = KFold(n_splits=K_inner, shuffle=True)\n",
    "    # to keep track of all validation errors\n",
    "    # rows corresponds to the i'th inner split. Cols is the different models\n",
    "    error_inner = np.empty((K_inner, len(number_of_neighbors)))\n",
    "\n",
    "    for i_inner, (train_inner_index, val_inner_index) in tqdm(enumerate(inner_cv.split(X_train_outer)), total = K_inner):\n",
    "        X_train_inner, X_val_inner = X_train_outer[train_inner_index, :], X_train_outer[val_inner_index, :]\n",
    "        y_train_inner, y_val_inner = y_train_outer[train_inner_index], y_train_outer[val_inner_index]\n",
    "\n",
    "        for k in range(len(number_of_neighbors)):\n",
    "            dtc = KNeighborsClassifier(n_neighbors=int(number_of_neighbors[k]))\n",
    "            dtc = dtc.fit(X_train_inner, y_train_inner)\n",
    "            y_val_pred_inner = dtc.predict(X_val_inner)\n",
    "\n",
    "            # Training model k on the i'th inner split here\n",
    "            error_inner[i_inner, k] = np.sum(y_val_pred_inner != y_val_inner) / len(y_val_inner)\n",
    "    \n",
    "    # computing the avg error for all models on the i'th inner split\n",
    "    avg_inner = np.mean(error_inner, axis=0)\n",
    "\n",
    "    # Training best model on train_outer \n",
    "    dtc = KNeighborsClassifier(n_neighbors=int(number_of_neighbors[np.argmin(avg_inner)]))\n",
    "    dtc = dtc.fit(X_train_outer, y_train_outer)\n",
    "    y_test_pred_outer = dtc.predict(X_test_outer)\n",
    "    # Getting the test error of the best model when tested on D_test (outer)\n",
    "    final_preformance_for_k_outer[0, i_outer] = np.sum(y_test_pred_outer != y_test_outer) / len(y_test_outer)\n",
    "    final_preformance_for_k_outer[1, i_outer] = number_of_neighbors[np.argmin(avg_inner)] # Also saving num of neighbors for the best model\n",
    "\n",
    "################## output\n",
    "list1 = ['///', 'Outer_1', 'Outer_2', 'Outer_3', 'Outer_4', 'Outer_5', 'Outer_6', 'Outer_7', 'Outer_8', 'Outer_9', 'Outer_10']\n",
    "\n",
    "table_data = [\n",
    "    ['E_i'] + [final_preformance_for_k_outer[0, i] for i in range(K_outer)], # +1\n",
    "    ['Parameter'] + list(final_preformance_for_k_outer[1, :])\n",
    "]\n",
    "\n",
    "# Printing all test errors along with the num of neighbors - based on best model for each outer loop\n",
    "print(tabulate(table_data, headers=list1, tablefmt='orgtbl'))\n",
    "# printing generalization error\n",
    "print(f'E_gen = {(1-float(np.mean(final_preformance_for_k_outer[0, :], axis=0)))*100}%')\n",
    "\n"
   ]
  }
 ],
 "metadata": {
  "kernelspec": {
   "display_name": "base",
   "language": "python",
   "name": "python3"
  },
  "language_info": {
   "codemirror_mode": {
    "name": "ipython",
    "version": 3
   },
   "file_extension": ".py",
   "mimetype": "text/x-python",
   "name": "python",
   "nbconvert_exporter": "python",
   "pygments_lexer": "ipython3",
   "version": "3.10.8"
  },
  "orig_nbformat": 4,
  "vscode": {
   "interpreter": {
    "hash": "3dc8e3e4ff9c8fdbed109d8133de8d8f695e288fe9361851b36cbf17bb1975b3"
   }
  }
 },
 "nbformat": 4,
 "nbformat_minor": 2
}

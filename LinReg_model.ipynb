{
 "cells": [
  {
   "cell_type": "code",
   "execution_count": 27,
   "metadata": {},
   "outputs": [],
   "source": [
    "import pandas as pd\n",
    "import numpy as np\n",
    "from sklearn.model_selection import KFold\n",
    "from sklearn import linear_model\n",
    "from tqdm import tqdm\n",
    "from tabulate import tabulate\n",
    "from sklearn.metrics import mean_squared_error\n",
    "\n",
    "\n",
    "filename = 'sd-data_cleanedv1.csv'\n",
    "data = pd.read_csv(filename)\n",
    "\n",
    "cl_data = data.values\n",
    "\n",
    "# Getting data and labels separated\n",
    "X = np.delete(cl_data, 21, axis=1)\n",
    "y = cl_data[:, 21]"
   ]
  },
  {
   "cell_type": "code",
   "execution_count": 28,
   "metadata": {},
   "outputs": [
    {
     "name": "stdout",
     "output_type": "stream",
     "text": [
      "Outer Fold 1/10\n"
     ]
    },
    {
     "name": "stderr",
     "output_type": "stream",
     "text": [
      "100%|██████████| 5/5 [00:06<00:00,  1.23s/it]\n"
     ]
    },
    {
     "name": "stdout",
     "output_type": "stream",
     "text": [
      "Outer Fold 2/10\n"
     ]
    },
    {
     "name": "stderr",
     "output_type": "stream",
     "text": [
      "100%|██████████| 5/5 [00:06<00:00,  1.23s/it]\n"
     ]
    },
    {
     "name": "stdout",
     "output_type": "stream",
     "text": [
      "Outer Fold 3/10\n"
     ]
    },
    {
     "name": "stderr",
     "output_type": "stream",
     "text": [
      "100%|██████████| 5/5 [00:06<00:00,  1.31s/it]\n"
     ]
    },
    {
     "name": "stdout",
     "output_type": "stream",
     "text": [
      "Outer Fold 4/10\n"
     ]
    },
    {
     "name": "stderr",
     "output_type": "stream",
     "text": [
      "100%|██████████| 5/5 [00:06<00:00,  1.27s/it]\n"
     ]
    },
    {
     "name": "stdout",
     "output_type": "stream",
     "text": [
      "Outer Fold 5/10\n"
     ]
    },
    {
     "name": "stderr",
     "output_type": "stream",
     "text": [
      "100%|██████████| 5/5 [00:06<00:00,  1.25s/it]\n"
     ]
    },
    {
     "name": "stdout",
     "output_type": "stream",
     "text": [
      "Outer Fold 6/10\n"
     ]
    },
    {
     "name": "stderr",
     "output_type": "stream",
     "text": [
      "100%|██████████| 5/5 [00:06<00:00,  1.24s/it]\n"
     ]
    },
    {
     "name": "stdout",
     "output_type": "stream",
     "text": [
      "Outer Fold 7/10\n"
     ]
    },
    {
     "name": "stderr",
     "output_type": "stream",
     "text": [
      "100%|██████████| 5/5 [00:06<00:00,  1.24s/it]\n"
     ]
    },
    {
     "name": "stdout",
     "output_type": "stream",
     "text": [
      "Outer Fold 8/10\n"
     ]
    },
    {
     "name": "stderr",
     "output_type": "stream",
     "text": [
      "100%|██████████| 5/5 [00:06<00:00,  1.21s/it]\n"
     ]
    },
    {
     "name": "stdout",
     "output_type": "stream",
     "text": [
      "Outer Fold 9/10\n"
     ]
    },
    {
     "name": "stderr",
     "output_type": "stream",
     "text": [
      "100%|██████████| 5/5 [00:06<00:00,  1.28s/it]\n"
     ]
    },
    {
     "name": "stdout",
     "output_type": "stream",
     "text": [
      "Outer Fold 10/10\n"
     ]
    },
    {
     "name": "stderr",
     "output_type": "stream",
     "text": [
      "100%|██████████| 5/5 [00:06<00:00,  1.27s/it]"
     ]
    },
    {
     "name": "stdout",
     "output_type": "stream",
     "text": [
      "|           |   Outer_1 |   Outer_2 |   Outer_3 |   Outer_4 |   Outer_5 |   Outer_6 |   Outer_7 |   Outer_8 |   Outer_9 |   Outer_10 |\n",
      "|-----------+-----------+-----------+-----------+-----------+-----------+-----------+-----------+-----------+-----------+------------|\n",
      "| E_i       |   0.48964 |  0.486367 |  0.487893 |  0.484257 |  0.484351 |  0.492499 |  0.494081 |  0.489033 |  0.496159 |   0.486735 |\n",
      "| Parameter |  46.4159  | 46.4159   | 46.4159   | 46.4159   | 46.4159   | 46.4159   | 46.4159   | 46.4159   | 46.4159   | 599.484    |\n",
      "E_gen = 0.4891014886052113\n"
     ]
    },
    {
     "name": "stderr",
     "output_type": "stream",
     "text": [
      "\n"
     ]
    }
   ],
   "source": [
    "# Define parameters\n",
    "regularization_parameters = np.logspace(-5, 5, 10)\n",
    "\n",
    "K_outer = 10  # Number of outer folds\n",
    "K_inner = 5  # Number of inner folds\n",
    "\n",
    "# Getting random splits (train and test 80/20) - for outer cross-validation loop\n",
    "# We will now be able to use the split() method to generate indices to split data into training and test set.\n",
    "outer_cv = KFold(n_splits=K_outer, shuffle=True)\n",
    "\n",
    "# Initialize variable - this will contain the test error of the best model when tested on D_test (outer)\n",
    "final_preformance_for_k_outer = np.empty((2, K_outer))\n",
    "\n",
    "# Looping over the outer splits\n",
    "for i_outer, (train_outer_index, test_outer_index) in enumerate(outer_cv.split(X)):\n",
    "    print(f'Outer Fold {i_outer + 1}/{K_outer}')\n",
    "\n",
    "    # train_outer_index and test_outer_index is a list of indicies as the name suggests.\n",
    "    # we now assign the data, in allignment with the splits, to varaibles\n",
    "    X_train_outer, X_test_outer = X[train_outer_index, :], X[test_outer_index, :]\n",
    "    y_train_outer, y_test_outer = y[train_outer_index], y[test_outer_index]\n",
    "\n",
    "    # Inner splits\n",
    "    inner_cv = KFold(n_splits=K_inner, shuffle=True)\n",
    "    # to keep track of all validation errors\n",
    "    # rows corresponds to the i'th inner split. Cols is the different models\n",
    "    error_inner = np.empty((K_inner, len(regularization_parameters)))\n",
    "\n",
    "    for i_inner, (train_inner_index, val_inner_index) in tqdm(enumerate(inner_cv.split(X_train_outer)), total = K_inner):\n",
    "        X_train_inner, X_val_inner = X_train_outer[train_inner_index, :], X_train_outer[val_inner_index, :]\n",
    "        y_train_inner, y_val_inner = y_train_outer[train_inner_index], y_train_outer[val_inner_index]\n",
    "\n",
    "        for k in range(len(regularization_parameters)):\n",
    "            dtc = linear_model.Ridge(alpha=regularization_parameters[k])\n",
    "            dtc = dtc.fit(X_train_inner, y_train_inner)\n",
    "\n",
    "            y_pred_inner = dtc.predict(X_val_inner)\n",
    "            mse_inner = mean_squared_error(y_val_inner, y_pred_inner)\n",
    "            error_inner[i_inner, k] = mse_inner\n",
    "\n",
    "\n",
    "\n",
    "    avg_inner = np.mean(error_inner, axis=0)\n",
    "\n",
    "    # Training best model on train_outer \n",
    "    dtc = linear_model.Ridge(alpha=regularization_parameters[np.argmin(avg_inner)])\n",
    "    dtc = dtc.fit(X_train_outer, y_train_outer)\n",
    "    # Getting the test error of the best model when tested on D_test (outer)\n",
    "    y_pred_outer = dtc.predict(X_test_outer)\n",
    "\n",
    "    mse_outer = mean_squared_error(y_test_outer, y_pred_outer)\n",
    "\n",
    "    final_preformance_for_k_outer[0, i_outer] = mse_outer\n",
    "    final_preformance_for_k_outer[1, i_outer] = regularization_parameters[np.argmin(avg_inner)] # Also saving num of neighbors for the best model\n",
    "\n",
    "################## output\n",
    "list1 = ['Outer_1', 'Outer_2', 'Outer_3', 'Outer_4', 'Outer_5', 'Outer_6', 'Outer_7', 'Outer_8', 'Outer_9', 'Outer_10']\n",
    "\n",
    "table_data = [\n",
    "    ['E_i'] + [final_preformance_for_k_outer[0, i] for i in range(K_outer)], # +1\n",
    "    ['Parameter'] + list(final_preformance_for_k_outer[1, :])\n",
    "]\n",
    "\n",
    "# Printing all test errors along with the num of neighbors - based on best model for each outer loop\n",
    "print(tabulate(table_data, headers=list1, tablefmt='orgtbl'))\n",
    "# printing generalization error\n",
    "print(f'E_gen = {np.mean(final_preformance_for_k_outer[0, :], axis=0)}')"
   ]
  }
 ],
 "metadata": {
  "kernelspec": {
   "display_name": "base",
   "language": "python",
   "name": "python3"
  },
  "language_info": {
   "codemirror_mode": {
    "name": "ipython",
    "version": 3
   },
   "file_extension": ".py",
   "mimetype": "text/x-python",
   "name": "python",
   "nbconvert_exporter": "python",
   "pygments_lexer": "ipython3",
   "version": "3.10.8 (main, Nov 24 2022, 08:08:27) [Clang 14.0.6 ]"
  },
  "orig_nbformat": 4,
  "vscode": {
   "interpreter": {
    "hash": "3dc8e3e4ff9c8fdbed109d8133de8d8f695e288fe9361851b36cbf17bb1975b3"
   }
  }
 },
 "nbformat": 4,
 "nbformat_minor": 2
}

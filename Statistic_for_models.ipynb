{
 "cells": [
  {
   "cell_type": "markdown",
   "metadata": {},
   "source": [
    "# Statistic on classification"
   ]
  },
  {
   "cell_type": "code",
   "execution_count": 1,
   "metadata": {},
   "outputs": [],
   "source": [
    "from matplotlib.pyplot import figure, plot, xlabel, ylabel, show\n",
    "import numpy as np\n",
    "from scipy.io import loadmat\n",
    "from sklearn.neighbors import KNeighborsClassifier\n",
    "from sklearn import model_selection\n",
    "import pandas as pd\n",
    "import os\n",
    "from scipy import stats"
   ]
  },
  {
   "cell_type": "code",
   "execution_count": 2,
   "metadata": {},
   "outputs": [],
   "source": [
    "# MSE values for each fold for the Ridge model and the baseline model\n",
    "mse_log = np.array([0.273374,0.273202,0.275129,0.272264,0.273185,0.272166,0.272418,0.276786,0.271591,0.274274])\n",
    "\n",
    "mse_baseline = np.array([0.49869865, 0.50087765, 0.50281454, 0.50103906, 0.50155861, \n",
    "0.50186125, 0.49886509, 0.50227486, 0.50283979,0.49893571])\n",
    "\n",
    "mse_knn = np.array([0.284122,0.277565,0.278422,0.275396,0.285649,0.284288,0.276974,0.286507,0.285195,0.285246])\n",
    "\n",
    "J = 10"
   ]
  },
  {
   "cell_type": "code",
   "execution_count": 6,
   "metadata": {},
   "outputs": [
    {
     "name": "stdout",
     "output_type": "stream",
     "text": [
      "t-statistic: 36.11701772160758, p-value: 4.734207670074462e-11\n",
      "Confidence interval: [0.21328600523521737, 0.24178923676478256]\n",
      "There is a significant difference in performance.\n"
     ]
    }
   ],
   "source": [
    "# Baseline and Log\n",
    "\n",
    "\n",
    "# Calculate r_j for each split\n",
    "r_j = mse_baseline - mse_log\n",
    "\n",
    "# Mean and standard deviation of r_j\n",
    "r_hat = np.mean(r_j)\n",
    "sigma_hat = np.std(r_j, ddof=1)\n",
    "\n",
    "# Calculate the t-statistic\n",
    "rho = 1 - (1/J)  # Assuming the correlation between folds is 1/J\n",
    "t_hat = r_hat / (sigma_hat * np.sqrt((1/J) + (rho / (1 - rho))))\n",
    "\n",
    "# Degrees of freedom\n",
    "nu = J - 1\n",
    "\n",
    "# Critical t value for two-tailed test\n",
    "alpha = 0.05\n",
    "t_critical = stats.t.ppf(1 - alpha/2, df=nu)\n",
    "\n",
    "# Compute the confidence interval\n",
    "ci_lower = r_hat - t_critical * sigma_hat * np.sqrt((1/J) + (rho / (1 - rho)))\n",
    "ci_upper = r_hat + t_critical * sigma_hat * np.sqrt((1/J) + (rho / (1 - rho)))\n",
    "\n",
    "# Compute the p-value\n",
    "p_value = 2 * stats.t.cdf(-np.abs(t_hat), df=nu)\n",
    "\n",
    "print(f\"t-statistic: {t_hat}, p-value: {p_value}\")\n",
    "print(f\"Confidence interval: [{ci_lower}, {ci_upper}]\")\n",
    "\n",
    "# Interpret the p-value\n",
    "if p_value < alpha:\n",
    "    print(\"There is a significant difference in performance.\")\n",
    "else:\n",
    "    print(\"There is no significant difference in performance.\")"
   ]
  },
  {
   "cell_type": "code",
   "execution_count": 9,
   "metadata": {},
   "outputs": [
    {
     "name": "stdout",
     "output_type": "stream",
     "text": [
      "t-statistic: 16.619991509304946, p-value: 4.615474439661873e-08\n",
      "Confidence interval: [0.18922643677697326, 0.24885380522302675]\n",
      "There is a significant difference in performance.\n"
     ]
    }
   ],
   "source": [
    "# Baseline and KNN\n",
    "\n",
    "\n",
    "# Calculate r_j for each split\n",
    "r_j = mse_baseline - mse_knn\n",
    "\n",
    "# Mean and standard deviation of r_j\n",
    "r_hat = np.mean(r_j)\n",
    "sigma_hat = np.std(r_j, ddof=1)\n",
    "\n",
    "# Calculate the t-statistic\n",
    "rho = 1 - (1/J)  # Assuming the correlation between folds is 1/J\n",
    "t_hat = r_hat / (sigma_hat * np.sqrt((1/J) + (rho / (1 - rho))))\n",
    "\n",
    "# Degrees of freedom\n",
    "nu = J - 1\n",
    "\n",
    "# Critical t value for two-tailed test\n",
    "alpha = 0.05\n",
    "t_critical = stats.t.ppf(1 - alpha/2, df=nu)\n",
    "\n",
    "# Compute the confidence interval\n",
    "ci_lower = r_hat - t_critical * sigma_hat * np.sqrt((1/J) + (rho / (1 - rho)))\n",
    "ci_upper = r_hat + t_critical * sigma_hat * np.sqrt((1/J) + (rho / (1 - rho)))\n",
    "\n",
    "# Compute the p-value\n",
    "p_value = 2 * stats.t.cdf(-np.abs(t_hat), df=nu)\n",
    "\n",
    "print(f\"t-statistic: {t_hat}, p-value: {p_value}\")\n",
    "print(f\"Confidence interval: [{ci_lower}, {ci_upper}]\")\n",
    "\n",
    "# Interpret the p-value\n",
    "if p_value < alpha:\n",
    "    print(\"There is a significant difference in performance.\")\n",
    "else:\n",
    "    print(\"There is no significant difference in performance.\")"
   ]
  },
  {
   "cell_type": "code",
   "execution_count": 10,
   "metadata": {},
   "outputs": [
    {
     "name": "stdout",
     "output_type": "stream",
     "text": [
      "t-statistic: 0.676300755813228, p-value: 0.5158514860232126\n",
      "Confidence interval: [-0.019925772227866942, 0.03692077222786692]\n",
      "There is no significant difference in performance.\n"
     ]
    }
   ],
   "source": [
    "# KNN and Log\n",
    "\n",
    "\n",
    "# Calculate r_j for each split\n",
    "r_j = mse_knn - mse_log\n",
    "\n",
    "# Mean and standard deviation of r_j\n",
    "r_hat = np.mean(r_j)\n",
    "sigma_hat = np.std(r_j, ddof=1)\n",
    "\n",
    "# Calculate the t-statistic\n",
    "rho = 1 - (1/J)  # Assuming the correlation between folds is 1/J\n",
    "t_hat = r_hat / (sigma_hat * np.sqrt((1/J) + (rho / (1 - rho))))\n",
    "\n",
    "# Degrees of freedom\n",
    "nu = J - 1\n",
    "\n",
    "# Critical t value for two-tailed test\n",
    "alpha = 0.05\n",
    "t_critical = stats.t.ppf(1 - alpha/2, df=nu)\n",
    "\n",
    "# Compute the confidence interval\n",
    "ci_lower = r_hat - t_critical * sigma_hat * np.sqrt((1/J) + (rho / (1 - rho)))\n",
    "ci_upper = r_hat + t_critical * sigma_hat * np.sqrt((1/J) + (rho / (1 - rho)))\n",
    "\n",
    "# Compute the p-value\n",
    "p_value = 2 * stats.t.cdf(-np.abs(t_hat), df=nu)\n",
    "\n",
    "print(f\"t-statistic: {t_hat}, p-value: {p_value}\")\n",
    "print(f\"Confidence interval: [{ci_lower}, {ci_upper}]\")\n",
    "\n",
    "# Interpret the p-value\n",
    "if p_value < alpha:\n",
    "    print(\"There is a significant difference in performance.\")\n",
    "else:\n",
    "    print(\"There is no significant difference in performance.\")"
   ]
  },
  {
   "cell_type": "markdown",
   "metadata": {},
   "source": [
    "# Statistic on regression:"
   ]
  },
  {
   "cell_type": "code",
   "execution_count": 1,
   "metadata": {},
   "outputs": [],
   "source": [
    "import numpy as np\n",
    "from scipy import stats"
   ]
  },
  {
   "cell_type": "code",
   "execution_count": 6,
   "metadata": {},
   "outputs": [],
   "source": [
    "# MSE values for each fold for the Ridge model and the baseline model\n",
    "mse_lin = np.array([0.478016, 0.479551, 0.487397, 0.460856, 0.476809, 0.470195, 0.476997, 0.490311, 0.509654, 0.46178])\n",
    "\n",
    "mse_baseline = np.array([0.9953216,1.00174479,0.99676505,1.00596679,1.00359939,0.99756906,0.99241375,1.00640269,1.00444311,0.99567611])\n",
    "\n",
    "mse_ann = np.array([0.4896, 0.486367, 0.487893, 0.484257, 0.484351, 0.492499, 0.494081, 0.489033, 0.496159, 0.486735])\n",
    "\n",
    "J = 10"
   ]
  },
  {
   "cell_type": "code",
   "execution_count": 7,
   "metadata": {},
   "outputs": [
    {
     "name": "stdout",
     "output_type": "stream",
     "text": [
      "t-statistic: 23.14263360637609, p-value: 2.4977280553994173e-09\n",
      "Confidence interval: [0.4609537479162376, 0.5608317200837625]\n",
      "There is a significant difference in performance.\n"
     ]
    }
   ],
   "source": [
    "# ann and baseline\n",
    "\n",
    "# Calculate r_j for each split\n",
    "r_j = mse_baseline - mse_ann\n",
    "\n",
    "# Mean and standard deviation of r_j\n",
    "r_hat = np.mean(r_j)\n",
    "sigma_hat = np.std(r_j, ddof=1)\n",
    "\n",
    "# Calculate the t-statistic\n",
    "rho = 1 - (1/J)  # Assuming the correlation between folds is 1/J\n",
    "t_hat = r_hat / (sigma_hat * np.sqrt((1/J) + (rho / (1 - rho))))\n",
    "\n",
    "# Degrees of freedom\n",
    "nu = J - 1\n",
    "\n",
    "# Critical t value for two-tailed test\n",
    "alpha = 0.05\n",
    "t_critical = stats.t.ppf(1 - alpha/2, df=nu)\n",
    "\n",
    "# Compute the confidence interval\n",
    "ci_lower = r_hat - t_critical * sigma_hat * np.sqrt((1/J) + (rho / (1 - rho)))\n",
    "ci_upper = r_hat + t_critical * sigma_hat * np.sqrt((1/J) + (rho / (1 - rho)))\n",
    "\n",
    "# Compute the p-value\n",
    "p_value = 2 * stats.t.cdf(-np.abs(t_hat), df=nu)\n",
    "\n",
    "print(f\"t-statistic: {t_hat}, p-value: {p_value}\")\n",
    "print(f\"Confidence interval: [{ci_lower}, {ci_upper}]\")\n",
    "\n",
    "# Interpret the p-value\n",
    "if p_value < alpha:\n",
    "    print(\"There is a significant difference in performance.\")\n",
    "else:\n",
    "    print(\"There is no significant difference in performance.\")"
   ]
  },
  {
   "cell_type": "code",
   "execution_count": 4,
   "metadata": {},
   "outputs": [
    {
     "name": "stdout",
     "output_type": "stream",
     "text": [
      "t-statistic: 12.510436884395515, p-value: 5.395652981665054e-07\n",
      "Confidence interval: [0.42665566510595454, 0.6150116028940456]\n",
      "There is a significant difference in performance.\n"
     ]
    }
   ],
   "source": [
    "# linear and baseline\n",
    "\n",
    "# Calculate r_j for each split\n",
    "r_j = mse_baseline - mse_lin\n",
    "\n",
    "# Mean and standard deviation of r_j\n",
    "r_hat = np.mean(r_j)\n",
    "sigma_hat = np.std(r_j, ddof=1)\n",
    "\n",
    "# Calculate the t-statistic\n",
    "rho = 1 - (1/J)  # Assuming the correlation between folds is 1/J\n",
    "t_hat = r_hat / (sigma_hat * np.sqrt((1/J) + (rho / (1 - rho))))\n",
    "\n",
    "# Degrees of freedom\n",
    "nu = J - 1\n",
    "\n",
    "# Critical t value for two-tailed test\n",
    "alpha = 0.05\n",
    "t_critical = stats.t.ppf(1 - alpha/2, df=nu)\n",
    "\n",
    "# Compute the confidence interval\n",
    "ci_lower = r_hat - t_critical * sigma_hat * np.sqrt((1/J) + (rho / (1 - rho)))\n",
    "ci_upper = r_hat + t_critical * sigma_hat * np.sqrt((1/J) + (rho / (1 - rho)))\n",
    "\n",
    "# Compute the p-value\n",
    "p_value = 2 * stats.t.cdf(-np.abs(t_hat), df=nu)\n",
    "\n",
    "print(f\"t-statistic: {t_hat}, p-value: {p_value}\")\n",
    "print(f\"Confidence interval: [{ci_lower}, {ci_upper}]\")\n",
    "\n",
    "# Interpret the p-value\n",
    "if p_value < alpha:\n",
    "    print(\"There is a significant difference in performance.\")\n",
    "else:\n",
    "    print(\"There is no significant difference in performance.\")"
   ]
  },
  {
   "cell_type": "code",
   "execution_count": 5,
   "metadata": {},
   "outputs": [
    {
     "name": "stdout",
     "output_type": "stream",
     "text": [
      "t-statistic: -0.2648810927209072, p-value: 0.7970676944916887\n",
      "Confidence interval: [-0.09483891181387576, 0.07495711181387578]\n",
      "There is no significant difference in performance.\n"
     ]
    }
   ],
   "source": [
    "# linear and ann\n",
    "\n",
    "# Calculate r_j for each split\n",
    "r_j = mse_lin - mse_ann\n",
    "\n",
    "# Mean and standard deviation of r_j\n",
    "r_hat = np.mean(r_j)\n",
    "sigma_hat = np.std(r_j, ddof=1)\n",
    "\n",
    "# Calculate the t-statistic\n",
    "rho = 1 - (1/J)  # Assuming the correlation between folds is 1/J\n",
    "t_hat = r_hat / (sigma_hat * np.sqrt((1/J) + (rho / (1 - rho))))\n",
    "\n",
    "# Degrees of freedom\n",
    "nu = J - 1\n",
    "\n",
    "# Critical t value for two-tailed test\n",
    "alpha = 0.05\n",
    "t_critical = stats.t.ppf(1 - alpha/2, df=nu)\n",
    "\n",
    "# Compute the confidence interval\n",
    "ci_lower = r_hat - t_critical * sigma_hat * np.sqrt((1/J) + (rho / (1 - rho)))\n",
    "ci_upper = r_hat + t_critical * sigma_hat * np.sqrt((1/J) + (rho / (1 - rho)))\n",
    "\n",
    "# Compute the p-value\n",
    "p_value = 2 * stats.t.cdf(-np.abs(t_hat), df=nu)\n",
    "\n",
    "print(f\"t-statistic: {t_hat}, p-value: {p_value}\")\n",
    "print(f\"Confidence interval: [{ci_lower}, {ci_upper}]\")\n",
    "\n",
    "# Interpret the p-value\n",
    "if p_value < alpha:\n",
    "    print(\"There is a significant difference in performance.\")\n",
    "else:\n",
    "    print(\"There is no significant difference in performance.\")"
   ]
  },
  {
   "cell_type": "code",
   "execution_count": null,
   "metadata": {},
   "outputs": [],
   "source": []
  }
 ],
 "metadata": {
  "kernelspec": {
   "display_name": "base",
   "language": "python",
   "name": "python3"
  },
  "language_info": {
   "codemirror_mode": {
    "name": "ipython",
    "version": 3
   },
   "file_extension": ".py",
   "mimetype": "text/x-python",
   "name": "python",
   "nbconvert_exporter": "python",
   "pygments_lexer": "ipython3",
   "version": "3.10.8"
  },
  "orig_nbformat": 4,
  "vscode": {
   "interpreter": {
    "hash": "3dc8e3e4ff9c8fdbed109d8133de8d8f695e288fe9361851b36cbf17bb1975b3"
   }
  }
 },
 "nbformat": 4,
 "nbformat_minor": 2
}

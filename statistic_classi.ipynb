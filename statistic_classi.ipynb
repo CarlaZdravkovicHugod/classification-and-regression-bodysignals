{
 "cells": [
  {
   "cell_type": "markdown",
   "metadata": {},
   "source": [
    "# Statistic on classification"
   ]
  },
  {
   "cell_type": "code",
   "execution_count": 1,
   "metadata": {},
   "outputs": [],
   "source": [
    "from matplotlib.pyplot import figure, plot, xlabel, ylabel, show\n",
    "import numpy as np\n",
    "from scipy.io import loadmat\n",
    "from sklearn.neighbors import KNeighborsClassifier\n",
    "from sklearn import model_selection\n",
    "import pandas as pd\n",
    "import os\n",
    "from scipy import stats"
   ]
  },
  {
   "cell_type": "code",
   "execution_count": 2,
   "metadata": {},
   "outputs": [],
   "source": [
    "# MSE values for each fold for the Ridge model and the baseline model\n",
    "mse_log = np.array([0.275664,0.272466,0.274665,0.271941,0.271298,0.275576,0.268726,0.273629,0.275939,0.274506])\n",
    "\n",
    "mse_baseline = np.array([0.49869865, 0.50087765, 0.50281454, 0.50103906, 0.50155861, \n",
    "0.50186125, 0.49886509, 0.50227486, 0.50283979,0.49893571])\n",
    "\n",
    "mse_knn = np.array([0.304435,0.318548,0.328629,0.290323,0.28629,0.266129,0.307071,0.29899,0.323232,0.260606])\n",
    "\n",
    "J = 10"
   ]
  },
  {
   "cell_type": "code",
   "execution_count": 3,
   "metadata": {},
   "outputs": [
    {
     "name": "stdout",
     "output_type": "stream",
     "text": [
      "t-statistic: 31.71888985607671, p-value: 1.5107253775954416e-10\n",
      "Confidence interval: [0.21130793198463152, 0.24376311001536852]\n",
      "There is a significant difference in performance.\n"
     ]
    }
   ],
   "source": [
    "# Baseline and Log\n",
    "\n",
    "\n",
    "# Calculate r_j for each split\n",
    "r_j = mse_baseline - mse_log\n",
    "\n",
    "# Mean and standard deviation of r_j\n",
    "r_hat = np.mean(r_j)\n",
    "sigma_hat = np.std(r_j, ddof=1)\n",
    "\n",
    "# Calculate the t-statistic\n",
    "rho = 1 - (1/J)  # Assuming the correlation between folds is 1/J\n",
    "t_hat = r_hat / (sigma_hat * np.sqrt((1/J) + (rho / (1 - rho))))\n",
    "\n",
    "# Degrees of freedom\n",
    "nu = J - 1\n",
    "\n",
    "# Critical t value for two-tailed test\n",
    "alpha = 0.05\n",
    "t_critical = stats.t.ppf(1 - alpha/2, df=nu)\n",
    "\n",
    "# Compute the confidence interval\n",
    "ci_lower = r_hat - t_critical * sigma_hat * np.sqrt((1/J) + (rho / (1 - rho)))\n",
    "ci_upper = r_hat + t_critical * sigma_hat * np.sqrt((1/J) + (rho / (1 - rho)))\n",
    "\n",
    "# Compute the p-value\n",
    "p_value = 2 * stats.t.cdf(-np.abs(t_hat), df=nu)\n",
    "\n",
    "print(f\"t-statistic: {t_hat}, p-value: {p_value}\")\n",
    "print(f\"Confidence interval: [{ci_lower}, {ci_upper}]\")\n",
    "\n",
    "# Interpret the p-value\n",
    "if p_value < alpha:\n",
    "    print(\"There is a significant difference in performance.\")\n",
    "else:\n",
    "    print(\"There is no significant difference in performance.\")"
   ]
  },
  {
   "cell_type": "code",
   "execution_count": 4,
   "metadata": {},
   "outputs": [
    {
     "name": "stdout",
     "output_type": "stream",
     "text": [
      "t-statistic: -2.991426726644257, p-value: 0.0151657770606621\n",
      "Confidence interval: [-0.3557231811640015, -0.0493792608359985]\n",
      "There is a significant difference in performance.\n"
     ]
    }
   ],
   "source": [
    "# Baseline and KNN\n",
    "\n",
    "\n",
    "# Calculate r_j for each split\n",
    "r_j = mse_knn - mse_baseline\n",
    "\n",
    "# Mean and standard deviation of r_j\n",
    "r_hat = np.mean(r_j)\n",
    "sigma_hat = np.std(r_j, ddof=1)\n",
    "\n",
    "# Calculate the t-statistic\n",
    "rho = 1 - (1/J)  # Assuming the correlation between folds is 1/J\n",
    "t_hat = r_hat / (sigma_hat * np.sqrt((1/J) + (rho / (1 - rho))))\n",
    "\n",
    "# Degrees of freedom\n",
    "nu = J - 1\n",
    "\n",
    "# Critical t value for two-tailed test\n",
    "alpha = 0.05\n",
    "t_critical = stats.t.ppf(1 - alpha/2, df=nu)\n",
    "\n",
    "# Compute the confidence interval\n",
    "ci_lower = r_hat - t_critical * sigma_hat * np.sqrt((1/J) + (rho / (1 - rho)))\n",
    "ci_upper = r_hat + t_critical * sigma_hat * np.sqrt((1/J) + (rho / (1 - rho)))\n",
    "\n",
    "# Compute the p-value\n",
    "p_value = 2 * stats.t.cdf(-np.abs(t_hat), df=nu)\n",
    "\n",
    "print(f\"t-statistic: {t_hat}, p-value: {p_value}\")\n",
    "print(f\"Confidence interval: [{ci_lower}, {ci_upper}]\")\n",
    "\n",
    "# Interpret the p-value\n",
    "if p_value < alpha:\n",
    "    print(\"There is a significant difference in performance.\")\n",
    "else:\n",
    "    print(\"There is no significant difference in performance.\")"
   ]
  },
  {
   "cell_type": "code",
   "execution_count": 5,
   "metadata": {},
   "outputs": [
    {
     "name": "stdout",
     "output_type": "stream",
     "text": [
      "t-statistic: -0.35801401182708487, p-value: 0.7285858814028705\n",
      "Confidence interval: [-0.1828507838078105, 0.13288218380781047]\n",
      "There is no significant difference in performance.\n"
     ]
    }
   ],
   "source": [
    "# KNN and Log\n",
    "\n",
    "\n",
    "# Calculate r_j for each split\n",
    "r_j = mse_log - mse_knn\n",
    "\n",
    "# Mean and standard deviation of r_j\n",
    "r_hat = np.mean(r_j)\n",
    "sigma_hat = np.std(r_j, ddof=1)\n",
    "\n",
    "# Calculate the t-statistic\n",
    "rho = 1 - (1/J)  # Assuming the correlation between folds is 1/J\n",
    "t_hat = r_hat / (sigma_hat * np.sqrt((1/J) + (rho / (1 - rho))))\n",
    "\n",
    "# Degrees of freedom\n",
    "nu = J - 1\n",
    "\n",
    "# Critical t value for two-tailed test\n",
    "alpha = 0.05\n",
    "t_critical = stats.t.ppf(1 - alpha/2, df=nu)\n",
    "\n",
    "# Compute the confidence interval\n",
    "ci_lower = r_hat - t_critical * sigma_hat * np.sqrt((1/J) + (rho / (1 - rho)))\n",
    "ci_upper = r_hat + t_critical * sigma_hat * np.sqrt((1/J) + (rho / (1 - rho)))\n",
    "\n",
    "# Compute the p-value\n",
    "p_value = 2 * stats.t.cdf(-np.abs(t_hat), df=nu)\n",
    "\n",
    "print(f\"t-statistic: {t_hat}, p-value: {p_value}\")\n",
    "print(f\"Confidence interval: [{ci_lower}, {ci_upper}]\")\n",
    "\n",
    "# Interpret the p-value\n",
    "if p_value < alpha:\n",
    "    print(\"There is a significant difference in performance.\")\n",
    "else:\n",
    "    print(\"There is no significant difference in performance.\")"
   ]
  },
  {
   "cell_type": "markdown",
   "metadata": {},
   "source": [
    "# Statistic on regression:"
   ]
  },
  {
   "cell_type": "code",
   "execution_count": 1,
   "metadata": {},
   "outputs": [],
   "source": [
    "import numpy as np\n",
    "from scipy import stats"
   ]
  },
  {
   "cell_type": "code",
   "execution_count": 6,
   "metadata": {},
   "outputs": [],
   "source": [
    "# MSE values for each fold for the Ridge model and the baseline model\n",
    "mse_lin = np.array([0.478016, 0.479551, 0.487397, 0.460856, 0.476809, 0.470195, 0.476997, 0.490311, 0.509654, 0.46178])\n",
    "\n",
    "mse_baseline = np.array([0.9953216,1.00174479,0.99676505,1.00596679,1.00359939,0.99756906,0.99241375,1.00640269,1.00444311,0.99567611])\n",
    "\n",
    "mse_ann = np.array([0.4896, 0.486367, 0.487893, 0.484257, 0.484351, 0.492499, 0.494081, 0.489033, 0.496159, 0.486735])\n",
    "\n",
    "J = 10"
   ]
  },
  {
   "cell_type": "code",
   "execution_count": 7,
   "metadata": {},
   "outputs": [
    {
     "name": "stdout",
     "output_type": "stream",
     "text": [
      "t-statistic: 23.14263360637609, p-value: 2.4977280553994173e-09\n",
      "Confidence interval: [0.4609537479162376, 0.5608317200837625]\n",
      "There is a significant difference in performance.\n"
     ]
    }
   ],
   "source": [
    "# ann and baseline\n",
    "\n",
    "# Calculate r_j for each split\n",
    "r_j = mse_baseline - mse_ann\n",
    "\n",
    "# Mean and standard deviation of r_j\n",
    "r_hat = np.mean(r_j)\n",
    "sigma_hat = np.std(r_j, ddof=1)\n",
    "\n",
    "# Calculate the t-statistic\n",
    "rho = 1 - (1/J)  # Assuming the correlation between folds is 1/J\n",
    "t_hat = r_hat / (sigma_hat * np.sqrt((1/J) + (rho / (1 - rho))))\n",
    "\n",
    "# Degrees of freedom\n",
    "nu = J - 1\n",
    "\n",
    "# Critical t value for two-tailed test\n",
    "alpha = 0.05\n",
    "t_critical = stats.t.ppf(1 - alpha/2, df=nu)\n",
    "\n",
    "# Compute the confidence interval\n",
    "ci_lower = r_hat - t_critical * sigma_hat * np.sqrt((1/J) + (rho / (1 - rho)))\n",
    "ci_upper = r_hat + t_critical * sigma_hat * np.sqrt((1/J) + (rho / (1 - rho)))\n",
    "\n",
    "# Compute the p-value\n",
    "p_value = 2 * stats.t.cdf(-np.abs(t_hat), df=nu)\n",
    "\n",
    "print(f\"t-statistic: {t_hat}, p-value: {p_value}\")\n",
    "print(f\"Confidence interval: [{ci_lower}, {ci_upper}]\")\n",
    "\n",
    "# Interpret the p-value\n",
    "if p_value < alpha:\n",
    "    print(\"There is a significant difference in performance.\")\n",
    "else:\n",
    "    print(\"There is no significant difference in performance.\")"
   ]
  },
  {
   "cell_type": "code",
   "execution_count": 4,
   "metadata": {},
   "outputs": [
    {
     "name": "stdout",
     "output_type": "stream",
     "text": [
      "t-statistic: 12.510436884395515, p-value: 5.395652981665054e-07\n",
      "Confidence interval: [0.42665566510595454, 0.6150116028940456]\n",
      "There is a significant difference in performance.\n"
     ]
    }
   ],
   "source": [
    "# linear and baseline\n",
    "\n",
    "# Calculate r_j for each split\n",
    "r_j = mse_baseline - mse_lin\n",
    "\n",
    "# Mean and standard deviation of r_j\n",
    "r_hat = np.mean(r_j)\n",
    "sigma_hat = np.std(r_j, ddof=1)\n",
    "\n",
    "# Calculate the t-statistic\n",
    "rho = 1 - (1/J)  # Assuming the correlation between folds is 1/J\n",
    "t_hat = r_hat / (sigma_hat * np.sqrt((1/J) + (rho / (1 - rho))))\n",
    "\n",
    "# Degrees of freedom\n",
    "nu = J - 1\n",
    "\n",
    "# Critical t value for two-tailed test\n",
    "alpha = 0.05\n",
    "t_critical = stats.t.ppf(1 - alpha/2, df=nu)\n",
    "\n",
    "# Compute the confidence interval\n",
    "ci_lower = r_hat - t_critical * sigma_hat * np.sqrt((1/J) + (rho / (1 - rho)))\n",
    "ci_upper = r_hat + t_critical * sigma_hat * np.sqrt((1/J) + (rho / (1 - rho)))\n",
    "\n",
    "# Compute the p-value\n",
    "p_value = 2 * stats.t.cdf(-np.abs(t_hat), df=nu)\n",
    "\n",
    "print(f\"t-statistic: {t_hat}, p-value: {p_value}\")\n",
    "print(f\"Confidence interval: [{ci_lower}, {ci_upper}]\")\n",
    "\n",
    "# Interpret the p-value\n",
    "if p_value < alpha:\n",
    "    print(\"There is a significant difference in performance.\")\n",
    "else:\n",
    "    print(\"There is no significant difference in performance.\")"
   ]
  },
  {
   "cell_type": "code",
   "execution_count": 5,
   "metadata": {},
   "outputs": [
    {
     "name": "stdout",
     "output_type": "stream",
     "text": [
      "t-statistic: -0.2648810927209072, p-value: 0.7970676944916887\n",
      "Confidence interval: [-0.09483891181387576, 0.07495711181387578]\n",
      "There is no significant difference in performance.\n"
     ]
    }
   ],
   "source": [
    "# linear and ann\n",
    "\n",
    "# Calculate r_j for each split\n",
    "r_j = mse_lin - mse_ann\n",
    "\n",
    "# Mean and standard deviation of r_j\n",
    "r_hat = np.mean(r_j)\n",
    "sigma_hat = np.std(r_j, ddof=1)\n",
    "\n",
    "# Calculate the t-statistic\n",
    "rho = 1 - (1/J)  # Assuming the correlation between folds is 1/J\n",
    "t_hat = r_hat / (sigma_hat * np.sqrt((1/J) + (rho / (1 - rho))))\n",
    "\n",
    "# Degrees of freedom\n",
    "nu = J - 1\n",
    "\n",
    "# Critical t value for two-tailed test\n",
    "alpha = 0.05\n",
    "t_critical = stats.t.ppf(1 - alpha/2, df=nu)\n",
    "\n",
    "# Compute the confidence interval\n",
    "ci_lower = r_hat - t_critical * sigma_hat * np.sqrt((1/J) + (rho / (1 - rho)))\n",
    "ci_upper = r_hat + t_critical * sigma_hat * np.sqrt((1/J) + (rho / (1 - rho)))\n",
    "\n",
    "# Compute the p-value\n",
    "p_value = 2 * stats.t.cdf(-np.abs(t_hat), df=nu)\n",
    "\n",
    "print(f\"t-statistic: {t_hat}, p-value: {p_value}\")\n",
    "print(f\"Confidence interval: [{ci_lower}, {ci_upper}]\")\n",
    "\n",
    "# Interpret the p-value\n",
    "if p_value < alpha:\n",
    "    print(\"There is a significant difference in performance.\")\n",
    "else:\n",
    "    print(\"There is no significant difference in performance.\")"
   ]
  },
  {
   "cell_type": "code",
   "execution_count": null,
   "metadata": {},
   "outputs": [],
   "source": []
  }
 ],
 "metadata": {
  "kernelspec": {
   "display_name": "Python 3.9.12 ('base')",
   "language": "python",
   "name": "python3"
  },
  "language_info": {
   "codemirror_mode": {
    "name": "ipython",
    "version": 3
   },
   "file_extension": ".py",
   "mimetype": "text/x-python",
   "name": "python",
   "nbconvert_exporter": "python",
   "pygments_lexer": "ipython3",
   "version": "3.9.12"
  },
  "orig_nbformat": 4,
  "vscode": {
   "interpreter": {
    "hash": "40d3a090f54c6569ab1632332b64b2c03c39dcf918b08424e98f38b5ae0af88f"
   }
  }
 },
 "nbformat": 4,
 "nbformat_minor": 2
}
